{
 "cells": [
  {
   "cell_type": "markdown",
   "id": "eea42925",
   "metadata": {},
   "source": [
    "## **Theory Section**\n",
    "\n",
    "**Q1. What is NumPy, and why is it widely used in Python?**  \n",
    "**Answer:**  \n",
    "NumPy (Numerical Python) is a library for numerical and scientific computing in Python. It provides powerful tools for handling multidimensional arrays, mathematical functions, linear algebra, and random number generation.  \n",
    "It is widely used because:  \n",
    "- It is faster than Python lists (implemented in C).  \n",
    "- It supports vectorized operations.  \n",
    "- It integrates easily with other libraries like Pandas, Matplotlib, and Scikit-learn.  \n",
    "\n",
    "---\n",
    "\n",
    "**Q2. How does broadcasting work in NumPy?**  \n",
    "**Answer:**  \n",
    "Broadcasting allows NumPy to perform arithmetic operations on arrays of different shapes. Instead of creating multiple copies, NumPy automatically \"expands\" smaller arrays to match the larger one for element-wise operations.  \n",
    "For example:  \n",
    "```python\n",
    "import numpy as np\n",
    "a = np.array([1, 2, 3])\n",
    "b = 5\n",
    "print(a + b)   # Output: [6 7 8]\n",
    "```\n",
    "\n",
    "---\n",
    "\n",
    "**Q3. What is a Pandas DataFrame?**  \n",
    "**Answer:**  \n",
    "A DataFrame is a 2D labeled data structure in Pandas, similar to a table in Excel or SQL. It consists of rows and columns where each column can hold different data types (int, float, string, etc.).  \n",
    "\n",
    "---\n",
    "\n",
    "**Q4. Explain the use of the groupby() method in Pandas.**  \n",
    "**Answer:**  \n",
    "The `groupby()` method is used to split data into groups based on some criteria (like categories) and then apply aggregation functions such as sum, mean, or count. It simplifies data analysis tasks.  \n",
    "\n",
    "---\n",
    "\n",
    "**Q5. Why is Seaborn preferred for statistical visualizations?**  \n",
    "**Answer:**  \n",
    "Seaborn is preferred because:  \n",
    "- It is built on top of Matplotlib but easier to use.  \n",
    "- It provides built-in themes and color palettes.  \n",
    "- It has high-level functions like heatmap, pairplot, and violinplot, which make statistical visualization simpler.  \n",
    "\n",
    "---\n",
    "\n",
    "**Q6. What are the differences between NumPy arrays and Python lists?**  \n",
    "**Answer:**  \n",
    "- **Speed:** NumPy arrays are faster.  \n",
    "- **Memory efficiency:** NumPy arrays use less memory.  \n",
    "- **Functionality:** NumPy supports mathematical operations directly; Python lists do not.  \n",
    "- **Data type:** NumPy arrays have a fixed type, while Python lists can store mixed data.  \n",
    "\n",
    "---\n",
    "\n",
    "**Q7. What is a heatmap, and when should it be used?**  \n",
    "**Answer:**  \n",
    "A heatmap is a graphical representation of data where values are represented as colors. It is used to visualize correlation matrices, frequency distributions, and patterns in large datasets.  \n",
    "\n",
    "---\n",
    "\n",
    "**Q8. What does the term “vectorized operation” mean in NumPy?**  \n",
    "**Answer:**  \n",
    "Vectorized operations mean applying an operation directly on the whole array without using loops. This makes the code faster and more concise. Example:  \n",
    "```python\n",
    "a = np.array([1,2,3])\n",
    "b = np.array([4,5,6])\n",
    "print(a + b)   # Output: [5 7 9]\n",
    "```\n",
    "\n",
    "---\n",
    "\n",
    "**Q9. How does Matplotlib differ from Plotly?**  \n",
    "**Answer:**  \n",
    "- **Matplotlib:** Mostly used for static 2D plots.  \n",
    "- **Plotly:** Used for interactive and dynamic plots (zoom, hover info, 3D visualization).  \n",
    "\n",
    "---\n",
    "\n",
    "**Q10. What is the significance of hierarchical indexing in Pandas?**  \n",
    "**Answer:**  \n",
    "Hierarchical indexing allows multiple levels of indexing in rows or columns. It helps in working with higher-dimensional data and simplifies group-based analysis.  \n",
    "\n",
    "---\n",
    "\n",
    "**Q11. What is the role of Seaborn’s pairplot() function?**  \n",
    "**Answer:**  \n",
    "`pairplot()` creates scatter plots for each pair of numerical columns and histograms for individual columns. It is useful for identifying relationships and distributions in a dataset.  \n",
    "\n",
    "---\n",
    "\n",
    "**Q12. What is the purpose of the describe() function in Pandas?**  \n",
    "**Answer:**  \n",
    "The `describe()` function provides summary statistics of a DataFrame such as count, mean, std, min, max, and quartiles.  \n",
    "\n",
    "---\n",
    "\n",
    "**Q13. Why is handling missing data important in Pandas?**  \n",
    "**Answer:**  \n",
    "Missing data can lead to inaccurate results, errors, or biased analysis. Pandas provides methods like `dropna()`, `fillna()` to handle missing values effectively.  \n",
    "\n",
    "---\n",
    "\n",
    "**Q14. What are the benefits of using Plotly for data visualization?**  \n",
    "**Answer:**  \n",
    "- Interactive charts with zoom/hover features.  \n",
    "- Supports 3D and real-time visualizations.  \n",
    "- Easy to integrate with Dash for dashboards.  \n",
    "\n",
    "---\n",
    "\n",
    "**Q15. How does NumPy handle multidimensional arrays?**  \n",
    "**Answer:**  \n",
    "NumPy uses the `ndarray` object which can store arrays of any dimension (1D, 2D, 3D, etc.). It allows efficient storage and operations like slicing, reshaping, and broadcasting.  \n",
    "\n",
    "---\n",
    "\n",
    "**Q16. What is the role of Bokeh in data visualization?**  \n",
    "**Answer:**  \n",
    "Bokeh is a Python library for creating interactive and web-friendly visualizations. It is useful for dashboards and handling large datasets in browsers.  \n",
    "\n",
    "---\n",
    "\n",
    "**Q17. Explain the difference between apply() and map() in Pandas.**  \n",
    "**Answer:**  \n",
    "- `map()`: Works only on Series (1D), used for element-wise operations.  \n",
    "- `apply()`: Works on both DataFrame and Series, allows applying custom functions row-wise or column-wise.  \n",
    "\n",
    "---\n",
    "\n",
    "**Q18. What are some advanced features of NumPy?**  \n",
    "**Answer:**  \n",
    "- Linear algebra functions.  \n",
    "- Fourier transforms.  \n",
    "- Random number generation.  \n",
    "- Masked arrays.  \n",
    "- Broadcasting and vectorization.  \n",
    "\n",
    "---\n",
    "\n",
    "**Q19. How does Pandas simplify time series analysis?**  \n",
    "**Answer:**  \n",
    "- Date/time indexing.  \n",
    "- Resampling and shifting.  \n",
    "- Built-in functions for rolling averages and trends.  \n",
    "- Easy handling of missing dates.  \n",
    "\n",
    "---\n",
    "\n",
    "**Q20. What is the role of a pivot table in Pandas?**  \n",
    "**Answer:**  \n",
    "Pivot tables summarize data by grouping and aggregating values. It helps in analyzing large datasets by transforming them into meaningful summaries.  \n",
    "\n",
    "---\n",
    "\n",
    "**Q21. Why is NumPy’s array slicing faster than Python’s list slicing?**  \n",
    "**Answer:**  \n",
    "NumPy arrays are stored in contiguous memory blocks and implemented in C, which makes slicing operations faster compared to Python lists.  \n",
    "\n",
    "---\n",
    "\n",
    "**Q22. What are some common use cases for Seaborn?**  \n",
    "**Answer:**  \n",
    "- Visualizing correlations with heatmaps.  \n",
    "- Comparing distributions with histograms and violin plots.  \n",
    "- Relationship analysis with scatter plots.  \n",
    "- Exploratory data analysis with pairplots.  \n"
   ]
  },
  {
   "cell_type": "markdown",
   "id": "190921a8",
   "metadata": {},
   "source": [
    "**Q1. Create a 2D NumPy array and calculate the sum of each row**"
   ]
  },
  {
   "cell_type": "code",
   "execution_count": null,
   "id": "b9ca99a7",
   "metadata": {},
   "outputs": [],
   "source": [
    "import numpy as np\n",
    "\n",
    "arr = np.array([[1, 2, 3],\n",
    "                [4, 5, 6],\n",
    "                [7, 8, 9]])\n",
    "\n",
    "row_sum = arr.sum(axis=1)\n",
    "print(\"Row sums:\", row_sum)"
   ]
  },
  {
   "cell_type": "markdown",
   "id": "b8d15fce",
   "metadata": {},
   "source": [
    "**Q2. Write a Pandas script to find the mean of a specific column in a DataFrame**"
   ]
  },
  {
   "cell_type": "code",
   "execution_count": null,
   "id": "549e9c07",
   "metadata": {},
   "outputs": [],
   "source": [
    "import pandas as pd\n",
    "\n",
    "data = {'Name': ['A', 'B', 'C', 'D'],\n",
    "        'Marks': [85, 90, 78, 92]}\n",
    "df = pd.DataFrame(data)\n",
    "\n",
    "mean_marks = df['Marks'].mean()\n",
    "print(\"Mean of Marks column:\", mean_marks)"
   ]
  },
  {
   "cell_type": "markdown",
   "id": "f2bcce82",
   "metadata": {},
   "source": [
    "**Q3. Create a scatter plot using Matplotlib**"
   ]
  },
  {
   "cell_type": "code",
   "execution_count": null,
   "id": "d41b08f0",
   "metadata": {},
   "outputs": [],
   "source": [
    "import matplotlib.pyplot as plt\n",
    "\n",
    "x = [5,7,8,7,6,9,5,6,7,8]\n",
    "y = [99,86,87,88,100,86,103,87,94,78]\n",
    "\n",
    "plt.scatter(x, y)\n",
    "plt.title(\"Scatter Plot Example\")\n",
    "plt.xlabel(\"X-axis\")\n",
    "plt.ylabel(\"Y-axis\")\n",
    "plt.show()"
   ]
  },
  {
   "cell_type": "markdown",
   "id": "81c676f6",
   "metadata": {},
   "source": [
    "**Q4. Calculate the correlation matrix using Seaborn and visualize it with a heatmap**"
   ]
  },
  {
   "cell_type": "code",
   "execution_count": null,
   "id": "e6528357",
   "metadata": {},
   "outputs": [],
   "source": [
    "import seaborn as sns\n",
    "import pandas as pd\n",
    "\n",
    "data = pd.DataFrame({\n",
    "    'A': [1, 2, 3, 4, 5],\n",
    "    'B': [5, 4, 3, 2, 1],\n",
    "    'C': [2, 3, 4, 5, 6]\n",
    "})\n",
    "\n",
    "corr = data.corr()\n",
    "sns.heatmap(corr, annot=True, cmap=\"coolwarm\")"
   ]
  },
  {
   "cell_type": "markdown",
   "id": "64042e01",
   "metadata": {},
   "source": [
    "**Q5. Generate a bar plot using Plotly**"
   ]
  },
  {
   "cell_type": "code",
   "execution_count": null,
   "id": "1f193880",
   "metadata": {},
   "outputs": [],
   "source": [
    "import plotly.express as px\n",
    "import pandas as pd\n",
    "\n",
    "df = pd.DataFrame({\n",
    "    'Fruits': ['Apple', 'Banana', 'Mango', 'Grapes'],\n",
    "    'Quantity': [10, 15, 7, 12]\n",
    "})\n",
    "\n",
    "fig = px.bar(df, x='Fruits', y='Quantity', title=\"Fruit Quantity\")\n",
    "fig.show()"
   ]
  },
  {
   "cell_type": "markdown",
   "id": "9d04cef7",
   "metadata": {},
   "source": [
    "**Q6. Create a DataFrame and add a new column based on an existing column**"
   ]
  },
  {
   "cell_type": "code",
   "execution_count": null,
   "id": "65ee144c",
   "metadata": {},
   "outputs": [],
   "source": [
    "import pandas as pd\n",
    "\n",
    "df = pd.DataFrame({'Name': ['A', 'B', 'C'],\n",
    "                   'Score': [50, 60, 70]})\n",
    "\n",
    "df['Passed'] = df['Score'] > 55\n",
    "print(df)"
   ]
  },
  {
   "cell_type": "markdown",
   "id": "ce84f778",
   "metadata": {},
   "source": [
    "**Q7. Element-wise multiplication of two NumPy arrays**"
   ]
  },
  {
   "cell_type": "code",
   "execution_count": null,
   "id": "70cb5fc8",
   "metadata": {},
   "outputs": [],
   "source": [
    "import numpy as np\n",
    "\n",
    "a = np.array([1,2,3])\n",
    "b = np.array([4,5,6])\n",
    "\n",
    "result = a * b\n",
    "print(\"Element-wise multiplication:\", result)"
   ]
  },
  {
   "cell_type": "markdown",
   "id": "915cb5fc",
   "metadata": {},
   "source": [
    "**Q8. Create a line plot with multiple lines using Matplotlib**"
   ]
  },
  {
   "cell_type": "code",
   "execution_count": null,
   "id": "0554906a",
   "metadata": {},
   "outputs": [],
   "source": [
    "import matplotlib.pyplot as plt\n",
    "\n",
    "x = [1,2,3,4,5]\n",
    "y1 = [1,4,9,16,25]\n",
    "y2 = [1,2,3,4,5]\n",
    "\n",
    "plt.plot(x, y1, label=\"Square\")\n",
    "plt.plot(x, y2, label=\"Linear\")\n",
    "plt.legend()\n",
    "plt.title(\"Multiple Line Plot\")\n",
    "plt.show()"
   ]
  },
  {
   "cell_type": "markdown",
   "id": "52c123cf",
   "metadata": {},
   "source": [
    "**Q9. Generate a Pandas DataFrame and filter rows where a column value is greater than a threshold**"
   ]
  },
  {
   "cell_type": "code",
   "execution_count": null,
   "id": "256ab348",
   "metadata": {},
   "outputs": [],
   "source": [
    "import pandas as pd\n",
    "\n",
    "df = pd.DataFrame({'Name': ['A','B','C','D'],\n",
    "                   'Age': [20,25,30,18]})\n",
    "\n",
    "filtered = df[df['Age'] > 21]\n",
    "print(filtered)"
   ]
  },
  {
   "cell_type": "markdown",
   "id": "e820a1c9",
   "metadata": {},
   "source": [
    "**Q10. Create a histogram using Seaborn to visualize a distribution**"
   ]
  },
  {
   "cell_type": "code",
   "execution_count": null,
   "id": "ac986eeb",
   "metadata": {},
   "outputs": [],
   "source": [
    "import seaborn as sns\n",
    "\n",
    "data = [1,2,2,3,3,3,4,4,4,4,5,5,6]\n",
    "sns.histplot(data, bins=5, kde=True)"
   ]
  },
  {
   "cell_type": "markdown",
   "id": "24f91ad7",
   "metadata": {},
   "source": [
    "**Q11. Perform matrix multiplication using NumPy**"
   ]
  },
  {
   "cell_type": "code",
   "execution_count": null,
   "id": "d4f65c52",
   "metadata": {},
   "outputs": [],
   "source": [
    "import numpy as np\n",
    "\n",
    "A = np.array([[1,2],[3,4]])\n",
    "B = np.array([[5,6],[7,8]])\n",
    "\n",
    "result = np.dot(A, B)\n",
    "print(\"Matrix multiplication:\\n\", result)"
   ]
  },
  {
   "cell_type": "markdown",
   "id": "a0035376",
   "metadata": {},
   "source": [
    "**Q12. Use Pandas to load a CSV file and display its first 5 rows**"
   ]
  },
  {
   "cell_type": "code",
   "execution_count": null,
   "id": "23bffce0",
   "metadata": {},
   "outputs": [],
   "source": [
    "import pandas as pd\n",
    "\n",
    "df = pd.read_csv(\"sample.csv\")   # make sure 'sample.csv' is uploaded\n",
    "print(df.head())"
   ]
  },
  {
   "cell_type": "markdown",
   "id": "ff66be2a",
   "metadata": {},
   "source": [
    "**Q13. Create a 3D scatter plot using Plotly**"
   ]
  },
  {
   "cell_type": "code",
   "execution_count": null,
   "id": "623618b8",
   "metadata": {},
   "outputs": [],
   "source": [
    "import plotly.express as px\n",
    "import pandas as pd\n",
    "\n",
    "df = pd.DataFrame({\n",
    "    'x': [1,2,3,4,5],\n",
    "    'y': [10,11,12,13,14],\n",
    "    'z': [5,6,7,8,9]\n",
    "})\n",
    "\n",
    "fig = px.scatter_3d(df, x='x', y='y', z='z', title=\"3D Scatter Plot\")\n",
    "fig.show()"
   ]
  }
 ],
 "metadata": {
  "kernelspec": {
   "display_name": "Python 3 (ipykernel)",
   "language": "python",
   "name": "python3"
  },
  "language_info": {
   "codemirror_mode": {
    "name": "ipython",
    "version": 3
   },
   "file_extension": ".py",
   "mimetype": "text/x-python",
   "name": "python",
   "nbconvert_exporter": "python",
   "pygments_lexer": "ipython3",
   "version": "3.11.0"
  }
 },
 "nbformat": 4,
 "nbformat_minor": 5
}
